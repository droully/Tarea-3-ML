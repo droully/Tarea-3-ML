{
 "cells": [
  {
   "cell_type": "markdown",
   "metadata": {},
   "source": [
    "## 2. Redes Convolucionales sobre imágenes"
   ]
  },
  {
   "cell_type": "markdown",
   "metadata": {},
   "source": [
    "> a) Construya funciones para leer los datos y cargarlos al momento de entrenar (durante cada *epoch*), para ésto utilice *Image Data Generator* de keras."
   ]
  },
  {
   "cell_type": "code",
   "execution_count": 31,
   "metadata": {},
   "outputs": [
    {
     "name": "stdout",
     "output_type": "stream",
     "text": [
      "Found 2600 images belonging to 3 classes.\n",
      "Found 600 images belonging to 3 classes.\n"
     ]
    }
   ],
   "source": [
    "from keras.preprocessing.image import ImageDataGenerator\n",
    "train_datagen = ImageDataGenerator(\n",
    "        rescale=1./255,\n",
    "        shear_range=0.2,\n",
    "        zoom_range=0.2,\n",
    "        horizontal_flip=True)\n",
    "test_datagen = ImageDataGenerator(rescale=1./255) #no transformation\n",
    "train_generator = train_datagen.flow_from_directory(\n",
    "        'food_data/train',\n",
    "        target_size=(150, 150),\n",
    "        color_mode='rgb',\n",
    "        batch_size=32)\n",
    "validation_generator = test_datagen.flow_from_directory(\n",
    "        'food_data/val',\n",
    "        target_size=(150, 150),\n",
    "        color_mode='rgb',\n",
    "        batch_size=32)"
   ]
  },
  {
   "cell_type": "markdown",
   "metadata": {},
   "source": [
    "Se utiliza Keras para generar datos extras (image augmentation), rescalando, transveccionando y rotando."
   ]
  },
  {
   "cell_type": "markdown",
   "metadata": {},
   "source": [
    ">b) Utilice la red tradicional (Feed Forward) entregada en el código para ser entrenada sobre los datos vectorizados, esto es que cada imagen queda representada como un vector gigante, y las 3 clases a las que se enfrenta. Evalúe el modelo con la métrica accuracy sobre el conjunto de validación.\n"
   ]
  },
  {
   "cell_type": "code",
   "execution_count": 3,
   "metadata": {
    "scrolled": true
   },
   "outputs": [
    {
     "name": "stdout",
     "output_type": "stream",
     "text": [
      "_________________________________________________________________\n",
      "Layer (type)                 Output Shape              Param #   \n",
      "=================================================================\n",
      "flatten_2 (Flatten)          (None, 67500)             0         \n",
      "_________________________________________________________________\n",
      "batch_normalization_2 (Batch (None, 67500)             270000    \n",
      "_________________________________________________________________\n",
      "dense_4 (Dense)              (None, 256)               17280256  \n",
      "_________________________________________________________________\n",
      "dropout_3 (Dropout)          (None, 256)               0         \n",
      "_________________________________________________________________\n",
      "dense_5 (Dense)              (None, 128)               32896     \n",
      "_________________________________________________________________\n",
      "dropout_4 (Dropout)          (None, 128)               0         \n",
      "_________________________________________________________________\n",
      "dense_6 (Dense)              (None, 3)                 387       \n",
      "=================================================================\n",
      "Total params: 17,583,539\n",
      "Trainable params: 17,448,539\n",
      "Non-trainable params: 135,000\n",
      "_________________________________________________________________\n",
      "Epoch 1/25\n",
      "75/75 [==============================] - 29s 392ms/step - loss: 9.1662 - acc: 0.4083 - val_loss: 9.0374 - val_acc: 0.4236\n",
      "Epoch 2/25\n",
      "75/75 [==============================] - 28s 380ms/step - loss: 8.7510 - acc: 0.4504 - val_loss: 8.6491 - val_acc: 0.4595\n",
      "Epoch 3/25\n",
      "75/75 [==============================] - 28s 372ms/step - loss: 8.7691 - acc: 0.4500 - val_loss: 9.4271 - val_acc: 0.4137\n",
      "Epoch 4/25\n",
      "75/75 [==============================] - 28s 369ms/step - loss: 8.7039 - acc: 0.4554 - val_loss: 9.5441 - val_acc: 0.4032\n",
      "Epoch 5/25\n",
      "75/75 [==============================] - 27s 365ms/step - loss: 8.9733 - acc: 0.4404 - val_loss: 8.7660 - val_acc: 0.4560\n",
      "Epoch 6/25\n",
      "75/75 [==============================] - 26s 352ms/step - loss: 8.6320 - acc: 0.4604 - val_loss: 9.1828 - val_acc: 0.4278\n",
      "Epoch 7/25\n",
      "75/75 [==============================] - 27s 354ms/step - loss: 8.3957 - acc: 0.4763 - val_loss: 8.8602 - val_acc: 0.4419\n",
      "Epoch 8/25\n",
      "75/75 [==============================] - 26s 352ms/step - loss: 8.1461 - acc: 0.4917 - val_loss: 8.9665 - val_acc: 0.4419\n",
      "Epoch 9/25\n",
      "75/75 [==============================] - 26s 351ms/step - loss: 8.3107 - acc: 0.4829 - val_loss: 8.7069 - val_acc: 0.4577\n",
      "Epoch 10/25\n",
      "75/75 [==============================] - 28s 371ms/step - loss: 8.5125 - acc: 0.4683 - val_loss: 8.4604 - val_acc: 0.4736\n",
      "Epoch 11/25\n",
      "75/75 [==============================] - 28s 376ms/step - loss: 8.1521 - acc: 0.4925 - val_loss: 8.3996 - val_acc: 0.4789\n",
      "Epoch 12/25\n",
      "75/75 [==============================] - 28s 368ms/step - loss: 8.2559 - acc: 0.4854 - val_loss: 8.3140 - val_acc: 0.4771\n",
      "Epoch 13/25\n",
      "75/75 [==============================] - 28s 370ms/step - loss: 8.2441 - acc: 0.4875 - val_loss: 8.9490 - val_acc: 0.4437\n",
      "Epoch 14/25\n",
      "75/75 [==============================] - 29s 388ms/step - loss: 8.0144 - acc: 0.5004 - val_loss: 8.9516 - val_acc: 0.4437\n",
      "Epoch 15/25\n",
      "75/75 [==============================] - 28s 368ms/step - loss: 8.2651 - acc: 0.4850 - val_loss: 7.8795 - val_acc: 0.5106\n",
      "Epoch 16/25\n",
      "75/75 [==============================] - 28s 370ms/step - loss: 8.4012 - acc: 0.4779 - val_loss: 8.3537 - val_acc: 0.4789\n",
      "Epoch 17/25\n",
      "75/75 [==============================] - 28s 369ms/step - loss: 8.5049 - acc: 0.4708 - val_loss: 8.0059 - val_acc: 0.4982\n",
      "Epoch 18/25\n",
      "75/75 [==============================] - 28s 373ms/step - loss: 8.8458 - acc: 0.4487 - val_loss: 8.7737 - val_acc: 0.4542\n",
      "Epoch 19/25\n",
      "75/75 [==============================] - 27s 365ms/step - loss: 8.7471 - acc: 0.4537 - val_loss: 8.3145 - val_acc: 0.4842\n",
      "Epoch 20/25\n",
      "75/75 [==============================] - 28s 368ms/step - loss: 8.5003 - acc: 0.4696 - val_loss: 8.2464 - val_acc: 0.4844\n",
      "Epoch 21/25\n",
      "75/75 [==============================] - 28s 375ms/step - loss: 8.2288 - acc: 0.4875 - val_loss: 8.1877 - val_acc: 0.4912\n",
      "Epoch 22/25\n",
      "75/75 [==============================] - 27s 366ms/step - loss: 8.3791 - acc: 0.4787 - val_loss: 8.5466 - val_acc: 0.4665\n",
      "Epoch 23/25\n",
      "75/75 [==============================] - 28s 371ms/step - loss: 8.5784 - acc: 0.4663 - val_loss: 8.6284 - val_acc: 0.4630\n",
      "Epoch 24/25\n",
      "75/75 [==============================] - 28s 375ms/step - loss: 8.8065 - acc: 0.4529 - val_loss: 8.6924 - val_acc: 0.4560\n",
      "Epoch 25/25\n",
      "75/75 [==============================] - 28s 370ms/step - loss: 8.7400 - acc: 0.4571 - val_loss: 8.7542 - val_acc: 0.4525\n"
     ]
    },
    {
     "data": {
      "text/plain": [
       "<keras.callbacks.History at 0xe5bbef0>"
      ]
     },
     "execution_count": 3,
     "metadata": {},
     "output_type": "execute_result"
    }
   ],
   "source": [
    "from keras.models import Sequential\n",
    "from keras.layers import *\n",
    "model = Sequential()\n",
    "model.add(Flatten(input_shape=train_generator.image_shape)) #full dense\n",
    "model.add(BatchNormalization()) #to normalize the input..\n",
    "model.add(Dense(256,activation='relu'))\n",
    "model.add(Dropout(0.25))\n",
    "model.add(Dense(128,activation='relu')) #128\n",
    "model.add(Dropout(0.25))\n",
    "model.add(Dense(3,activation='softmax'))\n",
    "model.compile(loss='categorical_crossentropy', optimizer='rmsprop', metrics=['accuracy']) # Let's train the model using RMSprop\n",
    "model.summary()\n",
    "model.fit_generator(\n",
    "        train_generator,\n",
    "        steps_per_epoch=len(train_generator.classes)//train_generator.batch_size, #samples//batch_size\n",
    "        epochs=25,\n",
    "        validation_data=validation_generator,\n",
    "        validation_steps=len(validation_generator.classes)//validation_generator.batch_size)"
   ]
  },
  {
   "cell_type": "code",
   "execution_count": 4,
   "metadata": {},
   "outputs": [
    {
     "name": "stdout",
     "output_type": "stream",
     "text": [
      "Accuracy validation:  0.4499999996026357\n"
     ]
    }
   ],
   "source": [
    "\n",
    "print(\"Accuracy validation: \",model.evaluate_generator(generator=validation_generator)[1])"
   ]
  },
  {
   "cell_type": "markdown",
   "metadata": {},
   "source": [
    "La red entrenada tiene una estructura de neuronas 67500x256x128x3, con capas dropout entre medio. Se utiliza el optimizador RMSPror, que es una variacion del SGD donde se actualiza el learning rate. Con un accurracy de 0.45 el modelo no discrimina correctamente las clases, lo mas probable es que la representacion vectorial de los datos elimina mucha informacion en la composicion de la imagen. Para arreglar esto se utiliza una red convolucional "
   ]
  },
  {
   "cell_type": "code",
   "execution_count": 13,
   "metadata": {},
   "outputs": [],
   "source": [
    "import matplotlib.pyplot as plt\n",
    "import itertools\n",
    "\n",
    "def plot_confusion_matrix(cm, classes,\n",
    "                          normalize=False,\n",
    "                          title='Confusion matrix',\n",
    "                          cmap=plt.cm.Blues):\n",
    "    \"\"\"\n",
    "    This function prints and plots the confusion matrix.\n",
    "    Normalization can be applied by setting `normalize=True`.\n",
    "    \"\"\"\n",
    "    if normalize:\n",
    "        cm = cm.astype('float') / cm.sum(axis=1)[:, np.newaxis]\n",
    "    plt.imshow(cm, interpolation='nearest', cmap=cmap)\n",
    "    plt.title(title)\n",
    "    plt.colorbar()\n",
    "    tick_marks = np.arange(len(classes))\n",
    "    plt.xticks(tick_marks, classes, rotation=45)\n",
    "    plt.yticks(tick_marks, classes)\n",
    "\n",
    "    fmt = '.2f' if normalize else 'd'\n",
    "    thresh = (cm.max()+cm.min())/ 2.\n",
    "    for i, j in itertools.product(range(cm.shape[0]), range(cm.shape[1])):\n",
    "        plt.text(j, i, format(cm[i, j], fmt),\n",
    "                 horizontalalignment=\"center\",\n",
    "                 color=\"white\" if cm[i, j] > thresh else \"black\")\n",
    "\n",
    "    plt.ylabel('True label')\n",
    "    plt.xlabel('Predicted label')\n",
    "    plt.tight_layout()"
   ]
  },
  {
   "cell_type": "code",
   "execution_count": 14,
   "metadata": {},
   "outputs": [
    {
     "data": {
      "image/png": "[encoded data removed]",
      "text/plain": [
       "<Figure size 432x288 with 2 Axes>"
      ]
     },
     "metadata": {},
     "output_type": "display_data"
    }
   ],
   "source": [
    "from sklearn.metrics import confusion_matrix \n",
    "Y_pred = model.predict_generator(validation_generator,len(validation_generator.classes)//validation_generator.batch_size+1)\n",
    "y_pred = np.argmax(Y_pred, axis=1)\n",
    "cm = confusion_matrix(validation_generator.classes, y_pred)\n",
    "plot_confusion_matrix(cm,[\"hamburger\", \"hot dog\",\"pizza\" ],normalize=True)"
   ]
  },
  {
   "cell_type": "markdown",
   "metadata": {},
   "source": [
    "Analizando la matriz de confusion, esta claro que la red sobreestima las ocurrencias de pizzas, prediciendo que el hay una probabilidad de 70% (en ves de 33%) de que una imagen aleatoria este en esa clase, y subestima absolutamente la de los completos, lo mas probable es debido a la distribucion de colores dentro de este tipo de imagenes implique la clase de las pizzas se \"coma\" la clase de los completos. "
   ]
  },
  {
   "cell_type": "markdown",
   "metadata": {},
   "source": [
    ">c) Utilice la red convolucional (CNN) entregada en el código para ser entrenada sobre los datos brutos, matrices RGB de píxeles, y las 3 clases a las que se enfrenta. Evalúe el modelo con la métrica accuracy sobre el conjunto de validación. Compare."
   ]
  },
  {
   "cell_type": "code",
   "execution_count": 32,
   "metadata": {
    "scrolled": true
   },
   "outputs": [
    {
     "name": "stdout",
     "output_type": "stream",
     "text": [
      "_________________________________________________________________\n",
      "Layer (type)                 Output Shape              Param #   \n",
      "=================================================================\n",
      "conv2d_17 (Conv2D)           (None, 150, 150, 32)      896       \n",
      "_________________________________________________________________\n",
      "conv2d_18 (Conv2D)           (None, 148, 148, 32)      9248      \n",
      "_________________________________________________________________\n",
      "max_pooling2d_9 (MaxPooling2 (None, 74, 74, 32)        0         \n",
      "_________________________________________________________________\n",
      "dropout_17 (Dropout)         (None, 74, 74, 32)        0         \n",
      "_________________________________________________________________\n",
      "conv2d_19 (Conv2D)           (None, 74, 74, 64)        18496     \n",
      "_________________________________________________________________\n",
      "conv2d_20 (Conv2D)           (None, 72, 72, 64)        36928     \n",
      "_________________________________________________________________\n",
      "max_pooling2d_10 (MaxPooling (None, 36, 36, 64)        0         \n",
      "_________________________________________________________________\n",
      "dropout_18 (Dropout)         (None, 36, 36, 64)        0         \n",
      "_________________________________________________________________\n",
      "flatten_7 (Flatten)          (None, 82944)             0         \n",
      "_________________________________________________________________\n",
      "dense_15 (Dense)             (None, 128)               10616960  \n",
      "_________________________________________________________________\n",
      "dropout_19 (Dropout)         (None, 128)               0         \n",
      "_________________________________________________________________\n",
      "dense_16 (Dense)             (None, 3)                 387       \n",
      "=================================================================\n",
      "Total params: 10,682,915\n",
      "Trainable params: 10,682,915\n",
      "Non-trainable params: 0\n",
      "_________________________________________________________________\n",
      "Epoch 1/25\n",
      "81/81 [==============================] - 184s 2s/step - loss: 1.2167 - acc: 0.3831 - val_loss: 1.0561 - val_acc: 0.4861\n",
      "Epoch 2/25\n",
      "81/81 [==============================] - 167s 2s/step - loss: 1.0682 - acc: 0.4483 - val_loss: 0.9752 - val_acc: 0.5282\n",
      "Epoch 3/25\n",
      "81/81 [==============================] - 167s 2s/step - loss: 1.0496 - acc: 0.4869 - val_loss: 0.9569 - val_acc: 0.5493\n",
      "Epoch 4/25\n",
      "81/81 [==============================] - 169s 2s/step - loss: 0.9930 - acc: 0.5231 - val_loss: 0.9240 - val_acc: 0.5651\n",
      "Epoch 5/25\n",
      "81/81 [==============================] - 180s 2s/step - loss: 0.9532 - acc: 0.5432 - val_loss: 1.0092 - val_acc: 0.5000\n",
      "Epoch 6/25\n",
      "81/81 [==============================] - 178s 2s/step - loss: 0.9454 - acc: 0.5532 - val_loss: 1.1417 - val_acc: 0.4754\n",
      "Epoch 7/25\n",
      "81/81 [==============================] - 187s 2s/step - loss: 0.9007 - acc: 0.5752 - val_loss: 0.8918 - val_acc: 0.5563\n",
      "Epoch 8/25\n",
      "81/81 [==============================] - 222s 3s/step - loss: 0.8934 - acc: 0.5803 - val_loss: 0.8242 - val_acc: 0.5880\n",
      "Epoch 9/25\n",
      "81/81 [==============================] - 237s 3s/step - loss: 0.8719 - acc: 0.5911 - val_loss: 0.8390 - val_acc: 0.6180\n",
      "Epoch 10/25\n",
      "81/81 [==============================] - 192s 2s/step - loss: 0.8575 - acc: 0.5953 - val_loss: 0.7813 - val_acc: 0.6338\n",
      "Epoch 11/25\n",
      "81/81 [==============================] - 218s 3s/step - loss: 0.8248 - acc: 0.6200 - val_loss: 0.8125 - val_acc: 0.6426\n",
      "Epoch 12/25\n",
      "81/81 [==============================] - 180s 2s/step - loss: 0.8099 - acc: 0.6238 - val_loss: 1.1308 - val_acc: 0.5563\n",
      "Epoch 13/25\n",
      "81/81 [==============================] - 180s 2s/step - loss: 0.8047 - acc: 0.6439 - val_loss: 0.7690 - val_acc: 0.6320\n",
      "Epoch 14/25\n",
      "81/81 [==============================] - 183s 2s/step - loss: 0.7877 - acc: 0.6335 - val_loss: 0.8698 - val_acc: 0.5563\n",
      "Epoch 15/25\n",
      "81/81 [==============================] - 183s 2s/step - loss: 0.7641 - acc: 0.6470 - val_loss: 0.7790 - val_acc: 0.6127\n",
      "Epoch 16/25\n",
      "81/81 [==============================] - 180s 2s/step - loss: 0.7224 - acc: 0.6809 - val_loss: 0.7545 - val_acc: 0.6761\n",
      "Epoch 17/25\n",
      "81/81 [==============================] - 179s 2s/step - loss: 0.7258 - acc: 0.6752 - val_loss: 0.6868 - val_acc: 0.7218\n",
      "Epoch 18/25\n",
      "81/81 [==============================] - 174s 2s/step - loss: 0.7293 - acc: 0.6724 - val_loss: 0.6902 - val_acc: 0.6989\n",
      "Epoch 19/25\n",
      "81/81 [==============================] - 177s 2s/step - loss: 0.7253 - acc: 0.6802 - val_loss: 0.7651 - val_acc: 0.7007\n",
      "Epoch 20/25\n",
      "81/81 [==============================] - 176s 2s/step - loss: 0.7198 - acc: 0.6813 - val_loss: 0.8041 - val_acc: 0.6580\n",
      "Epoch 21/25\n",
      "81/81 [==============================] - 176s 2s/step - loss: 0.6964 - acc: 0.6941 - val_loss: 0.6788 - val_acc: 0.7060\n",
      "Epoch 22/25\n",
      "81/81 [==============================] - 175s 2s/step - loss: 0.6948 - acc: 0.6944 - val_loss: 0.7381 - val_acc: 0.6567\n",
      "Epoch 23/25\n",
      "81/81 [==============================] - 175s 2s/step - loss: 0.6829 - acc: 0.7033 - val_loss: 0.6026 - val_acc: 0.7482\n",
      "Epoch 24/25\n",
      "81/81 [==============================] - 179s 2s/step - loss: 0.6760 - acc: 0.6948 - val_loss: 0.6348 - val_acc: 0.7482\n",
      "Epoch 25/25\n",
      "81/81 [==============================] - 177s 2s/step - loss: 0.6753 - acc: 0.7095 - val_loss: 0.6998 - val_acc: 0.7113\n"
     ]
    },
    {
     "data": {
      "text/plain": [
       "<keras.callbacks.History at 0x119446d8>"
      ]
     },
     "execution_count": 32,
     "metadata": {},
     "output_type": "execute_result"
    }
   ],
   "source": [
    "model = Sequential()\n",
    "model.add(Conv2D(32, (3, 3), padding='same',input_shape=train_generator.image_shape,activation='relu'))\n",
    "model.add(Conv2D(32, (3, 3),activation='relu'))\n",
    "model.add(MaxPool2D(pool_size=(2, 2)))\n",
    "model.add(Dropout(0.25))\n",
    "model.add(Conv2D(64, (3, 3), padding='same',activation='relu'))\n",
    "model.add(Conv2D(64, (3, 3),activation='relu'))\n",
    "model.add(MaxPool2D(pool_size=(2, 2)))\n",
    "model.add(Dropout(0.25))\n",
    "model.add(Flatten())\n",
    "model.add(Dense(128,activation='relu'))\n",
    "model.add(Dropout(0.5)) \n",
    "model.add(Dense(len(train_generator.class_indices),activation='softmax'))\n",
    "model.compile(loss='categorical_crossentropy', optimizer='rmsprop', metrics=['accuracy']) # Let's train the model using RMSprop\n",
    "model.summary()\n",
    "model.fit_generator(\n",
    "        train_generator,\n",
    "        steps_per_epoch=len(train_generator.classes)//train_generator.batch_size, #samples//batch_size\n",
    "        epochs=25,\n",
    "        validation_data=validation_generator,\n",
    "        validation_steps=len(validation_generator.classes)//validation_generator.batch_size)"
   ]
  },
  {
   "cell_type": "code",
   "execution_count": 34,
   "metadata": {},
   "outputs": [
    {
     "name": "stdout",
     "output_type": "stream",
     "text": [
      "Accuracy validation:  0.698333334128062\n"
     ]
    }
   ],
   "source": [
    "print(\"Accuracy validation: \",model.evaluate_generator(generator=validation_generator)[1])"
   ]
  },
  {
   "cell_type": "code",
   "execution_count": 39,
   "metadata": {},
   "outputs": [
    {
     "data": {
      "image/png": "[encoded data removed]",
      "text/plain": [
       "<Figure size 432x288 with 2 Axes>"
      ]
     },
     "metadata": {},
     "output_type": "display_data"
    }
   ],
   "source": [
    "Y_pred = model.predict_generator(validation_generator,len(validation_generator.classes)//validation_generator.batch_size+1)\n",
    "y_pred = np.argmax(Y_pred, axis=1)\n",
    "cm = confusion_matrix(validation_generator.classes, y_pred)\n",
    "plot_confusion_matrix(cm,[\"hamburger\", \"hot dog\",\"pizza\" ],normalize=True)"
   ]
  },
  {
   "cell_type": "markdown",
   "metadata": {},
   "source": [
    "Se obtiene un accurracy en el conjunto de validacion de 0.69, un aumento substancial de 24 puntos en comparacion al utilizar la representacion vectorial tradicional. Para este caso la red sobreestima la clase de las hamburgesas, dando una probabilidad de que una imagen sea de esta clase de 54%. Por otro lado, la matriz tiene una forma de \"tres barras verticales\", es decir, no depende tanto la etiqueta real la decision que toma la red."
   ]
  },
  {
   "cell_type": "markdown",
   "metadata": {},
   "source": [
    ">d) Genere un conjunto datos con incorrecta etiquetación de manera manual y vea si el modelo convolucional se sigue comportando de la misma manera. Para esto tome 100 imágenes aleatorias de entrenamiento de la carpeta hot dog y 100 imágenes aleatorias de entrenamiento de la carpeta hamburger e intercambielas, sin manipular las imágenes de la carpeta pizza y con el conjunto de validación intacto. Genere las matrices de confusión en el conjunto de validación para visualizar cómo afectó al modelo la corrupción realizada a los datos."
   ]
  },
  {
   "cell_type": "markdown",
   "metadata": {},
   "source": [
    "Para esta parte se intercambiaron 100 imagenes del conjunto de entrenamineto entre las clases hot dog y hamburger."
   ]
  },
  {
   "cell_type": "code",
   "execution_count": 22,
   "metadata": {},
   "outputs": [
    {
     "name": "stdout",
     "output_type": "stream",
     "text": [
      "Found 2400 images belonging to 3 classes.\n",
      "Found 600 images belonging to 3 classes.\n"
     ]
    }
   ],
   "source": [
    "train_datagen = ImageDataGenerator(\n",
    "        rescale=1./255,\n",
    "        shear_range=0.2,\n",
    "        zoom_range=0.2,\n",
    "        horizontal_flip=True)\n",
    "test_datagen = ImageDataGenerator(rescale=1./255) #no transformation\n",
    "train_generator = train_datagen.flow_from_directory(\n",
    "        'food_data/train',\n",
    "        target_size=(150, 150),\n",
    "        color_mode='rgb',\n",
    "        batch_size=32)\n",
    "validation_generator = test_datagen.flow_from_directory(\n",
    "        'food_data/val',\n",
    "        target_size=(150, 150),\n",
    "        color_mode='rgb',\n",
    "        batch_size=32)"
   ]
  },
  {
   "cell_type": "code",
   "execution_count": 23,
   "metadata": {
    "scrolled": true
   },
   "outputs": [
    {
     "name": "stdout",
     "output_type": "stream",
     "text": [
      "_________________________________________________________________\n",
      "Layer (type)                 Output Shape              Param #   \n",
      "=================================================================\n",
      "conv2d_9 (Conv2D)            (None, 150, 150, 32)      896       \n",
      "_________________________________________________________________\n",
      "conv2d_10 (Conv2D)           (None, 148, 148, 32)      9248      \n",
      "_________________________________________________________________\n",
      "max_pooling2d_5 (MaxPooling2 (None, 74, 74, 32)        0         \n",
      "_________________________________________________________________\n",
      "dropout_11 (Dropout)         (None, 74, 74, 32)        0         \n",
      "_________________________________________________________________\n",
      "conv2d_11 (Conv2D)           (None, 74, 74, 64)        18496     \n",
      "_________________________________________________________________\n",
      "conv2d_12 (Conv2D)           (None, 72, 72, 64)        36928     \n",
      "_________________________________________________________________\n",
      "max_pooling2d_6 (MaxPooling2 (None, 36, 36, 64)        0         \n",
      "_________________________________________________________________\n",
      "dropout_12 (Dropout)         (None, 36, 36, 64)        0         \n",
      "_________________________________________________________________\n",
      "flatten_5 (Flatten)          (None, 82944)             0         \n",
      "_________________________________________________________________\n",
      "dense_11 (Dense)             (None, 128)               10616960  \n",
      "_________________________________________________________________\n",
      "dropout_13 (Dropout)         (None, 128)               0         \n",
      "_________________________________________________________________\n",
      "dense_12 (Dense)             (None, 3)                 387       \n",
      "=================================================================\n",
      "Total params: 10,682,915\n",
      "Trainable params: 10,682,915\n",
      "Non-trainable params: 0\n",
      "_________________________________________________________________\n",
      "Epoch 1/25\n",
      "75/75 [==============================] - 188s 3s/step - loss: 1.3174 - acc: 0.3392 - val_loss: 1.1784 - val_acc: 0.3351\n",
      "Epoch 2/25\n",
      "75/75 [==============================] - 179s 2s/step - loss: 1.0913 - acc: 0.3979 - val_loss: 1.0553 - val_acc: 0.5194\n",
      "Epoch 3/25\n",
      "75/75 [==============================] - 179s 2s/step - loss: 1.0405 - acc: 0.4775 - val_loss: 0.9853 - val_acc: 0.5757\n",
      "Epoch 4/25\n",
      "75/75 [==============================] - 172s 2s/step - loss: 0.9984 - acc: 0.5208 - val_loss: 0.9862 - val_acc: 0.5229\n",
      "Epoch 5/25\n",
      "75/75 [==============================] - 168s 2s/step - loss: 0.9783 - acc: 0.5258 - val_loss: 0.9898 - val_acc: 0.4947\n",
      "Epoch 6/25\n",
      "75/75 [==============================] - 173s 2s/step - loss: 0.9522 - acc: 0.5454 - val_loss: 0.9091 - val_acc: 0.5757\n",
      "Epoch 7/25\n",
      "75/75 [==============================] - 174s 2s/step - loss: 0.9194 - acc: 0.5725 - val_loss: 0.9317 - val_acc: 0.5475\n",
      "Epoch 8/25\n",
      "75/75 [==============================] - 173s 2s/step - loss: 0.9162 - acc: 0.5750 - val_loss: 0.8820 - val_acc: 0.5669\n",
      "Epoch 9/25\n",
      "75/75 [==============================] - 166s 2s/step - loss: 0.8819 - acc: 0.5921 - val_loss: 0.8664 - val_acc: 0.5880\n",
      "Epoch 10/25\n",
      "75/75 [==============================] - 168s 2s/step - loss: 0.8570 - acc: 0.6125 - val_loss: 0.8597 - val_acc: 0.6197\n",
      "Epoch 11/25\n",
      "75/75 [==============================] - 171s 2s/step - loss: 0.8324 - acc: 0.6092 - val_loss: 0.8032 - val_acc: 0.5863\n",
      "Epoch 12/25\n",
      "75/75 [==============================] - 174s 2s/step - loss: 0.8300 - acc: 0.6233 - val_loss: 1.0355 - val_acc: 0.5722\n",
      "Epoch 13/25\n",
      "75/75 [==============================] - 168s 2s/step - loss: 0.7980 - acc: 0.6388 - val_loss: 0.7045 - val_acc: 0.6849\n",
      "Epoch 14/25\n",
      "75/75 [==============================] - 166s 2s/step - loss: 0.7814 - acc: 0.6471 - val_loss: 0.7332 - val_acc: 0.6884\n",
      "Epoch 15/25\n",
      "75/75 [==============================] - 166s 2s/step - loss: 0.7706 - acc: 0.6379 - val_loss: 0.7776 - val_acc: 0.6444\n",
      "Epoch 16/25\n",
      "75/75 [==============================] - 165s 2s/step - loss: 0.7474 - acc: 0.6733 - val_loss: 0.7155 - val_acc: 0.6567\n",
      "Epoch 17/25\n",
      "75/75 [==============================] - 168s 2s/step - loss: 0.7351 - acc: 0.6658 - val_loss: 0.6817 - val_acc: 0.7007\n",
      "Epoch 18/25\n",
      "75/75 [==============================] - 168s 2s/step - loss: 0.7142 - acc: 0.6829 - val_loss: 0.8147 - val_acc: 0.6285\n",
      "Epoch 19/25\n",
      "75/75 [==============================] - 168s 2s/step - loss: 0.7180 - acc: 0.6688 - val_loss: 0.7018 - val_acc: 0.6849\n",
      "Epoch 20/25\n",
      "75/75 [==============================] - 159s 2s/step - loss: 0.7168 - acc: 0.6796 - val_loss: 0.7833 - val_acc: 0.6424\n",
      "Epoch 21/25\n",
      "75/75 [==============================] - 168s 2s/step - loss: 0.7160 - acc: 0.6779 - val_loss: 0.7928 - val_acc: 0.6620\n",
      "Epoch 22/25\n",
      "75/75 [==============================] - 163s 2s/step - loss: 0.6745 - acc: 0.7004 - val_loss: 0.6941 - val_acc: 0.6884\n",
      "Epoch 23/25\n",
      "75/75 [==============================] - 167s 2s/step - loss: 0.6849 - acc: 0.7013 - val_loss: 0.6975 - val_acc: 0.7148\n",
      "Epoch 24/25\n",
      "75/75 [==============================] - 169s 2s/step - loss: 0.6650 - acc: 0.7096 - val_loss: 0.7077 - val_acc: 0.6743\n",
      "Epoch 25/25\n",
      "75/75 [==============================] - 170s 2s/step - loss: 0.6673 - acc: 0.7058 - val_loss: 0.7101 - val_acc: 0.6796\n"
     ]
    },
    {
     "data": {
      "text/plain": [
       "<keras.callbacks.History at 0x108dbf28>"
      ]
     },
     "execution_count": 23,
     "metadata": {},
     "output_type": "execute_result"
    }
   ],
   "source": [
    "model = Sequential()\n",
    "model.add(Conv2D(32, (3, 3), padding='same',input_shape=train_generator.image_shape,activation='relu'))\n",
    "model.add(Conv2D(32, (3, 3),activation='relu'))\n",
    "model.add(MaxPool2D(pool_size=(2, 2)))\n",
    "model.add(Dropout(0.25))\n",
    "model.add(Conv2D(64, (3, 3), padding='same',activation='relu'))\n",
    "model.add(Conv2D(64, (3, 3),activation='relu'))\n",
    "model.add(MaxPool2D(pool_size=(2, 2)))\n",
    "model.add(Dropout(0.25))\n",
    "model.add(Flatten())\n",
    "model.add(Dense(128,activation='relu'))\n",
    "model.add(Dropout(0.5)) \n",
    "model.add(Dense(len(train_generator.class_indices),activation='softmax'))\n",
    "model.compile(loss='categorical_crossentropy', optimizer='rmsprop', metrics=['accuracy']) # Let's train the model using RMSprop\n",
    "model.summary()\n",
    "model.fit_generator(\n",
    "        train_generator,\n",
    "        steps_per_epoch=len(train_generator.classes)//train_generator.batch_size, #samples//batch_size\n",
    "        epochs=25,\n",
    "        validation_data=validation_generator,\n",
    "        validation_steps=len(validation_generator.classes)//validation_generator.batch_size)"
   ]
  },
  {
   "cell_type": "code",
   "execution_count": 24,
   "metadata": {},
   "outputs": [
    {
     "name": "stdout",
     "output_type": "stream",
     "text": [
      "Accuracy validation:  0.6783333333333333\n"
     ]
    }
   ],
   "source": [
    "print(\"Accuracy validation: \",model.evaluate_generator(generator=validation_generator)[1])"
   ]
  },
  {
   "cell_type": "code",
   "execution_count": 29,
   "metadata": {},
   "outputs": [
    {
     "data": {
      "image/png": "[encoded data removed]",
      "text/plain": [
       "<Figure size 432x288 with 2 Axes>"
      ]
     },
     "metadata": {},
     "output_type": "display_data"
    }
   ],
   "source": [
    "\n",
    "Y_pred = model.predict_generator(validation_generator,len(validation_generator.classes)//validation_generator.batch_size+1)\n",
    "y_pred = np.argmax(Y_pred, axis=1)\n",
    "cm = confusion_matrix(validation_generator.classes, y_pred)\n",
    "plot_confusion_matrix(cm,[\"hamburger\", \"hot dog\",\"pizza\" ],normalize=True)"
   ]
  },
  {
   "cell_type": "markdown",
   "metadata": {},
   "source": [
    "Los resultados son levemente peores, una reduccion de 0.02 puntos de acurracy. De la matriz se aprecia que en la prediccion tiene un efecto la etiqueta real a diferencia de antes, pero a pesar de todo no hay un comportamiento significativo entre los completos y las hamburgesas. Se esperaba una especie de homogenizacion entre estas clases, cosa que la matriz representaria como una submatriz con cuatro valores cercanos. Sin embargo es importante destacar que las imagenes que se pedian discriminar eran de un tipo con bastantes elementos en comun, (colores, formas y contextos). "
   ]
  }
 ],
 "metadata": {
  "kernelspec": {
   "display_name": "Python 3",
   "language": "python",
   "name": "python3"
  },
  "language_info": {
   "codemirror_mode": {
    "name": "ipython",
    "version": 3
   },
   "file_extension": ".py",
   "mimetype": "text/x-python",
   "name": "python",
   "nbconvert_exporter": "python",
   "pygments_lexer": "ipython3",
   "version": "3.6.5"
  }
 },
 "nbformat": 4,
 "nbformat_minor": 2
}
